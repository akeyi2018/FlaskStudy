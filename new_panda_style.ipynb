import pandas as pd
df = pd.DataFrame([[4, 6], [1, 9], [3, 4], [5, 5], [9,6]],
               columns=["Mike", "Jim"],
               index=["Mon", "Tue", "Wed", "Thurs", "Fri"])
descriptors = df.agg(["sum", "mean", lambda s: s.dtype])
descriptors.index = ["Total", "Average", "dtype"]
other = (descriptors.style
         .highlight_max(axis=1, subset=(["Total", "Average"], slice(None)))
         .format(subset=("Average", slice(None)), precision=2, decimal=",")
         .applymap(lambda v: "font-weight: bold;"))
styler = (df.style
            .highlight_max(color="salmon")
            .set_table_styles([{"selector": ".foot_row0",
                                "props": "border-top: 1px solid black;"}]))
# styler.concat(other)  
print(styler)